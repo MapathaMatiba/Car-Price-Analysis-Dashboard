{
 "cells": [
  {
   "cell_type": "code",
   "execution_count": 1,
   "metadata": {},
   "outputs": [
    {
     "name": "stdout",
     "output_type": "stream",
     "text": [
      "Dataset Overview:\n",
      "     Brand     Model Model_Description     Price  Engine_Size\n",
      "0   Suzuki  S-Presso            1.0 GL  162900.0          1.0\n",
      "1   Suzuki  S-Presso           1.0 GL+  169900.0          1.0\n",
      "2   Suzuki   Celerio            1.0 GA  178900.0          1.0\n",
      "3  Renault      Kwid          1.0 Life  180999.0          1.0\n",
      "4   Suzuki  S-Presso     1.0 S-Edition  185900.0          1.0\n"
     ]
    }
   ],
   "source": [
    "import pandas as pd\n",
    "\n",
    "# Load the dataset\n",
    "file_path = 'car_prices_rsa_update_011.csv'\n",
    "df = pd.read_csv(file_path)\n",
    "\n",
    "# Preview the dataset\n",
    "print(\"Dataset Overview:\")\n",
    "print(df.head())\n",
    "\n"
   ]
  },
  {
   "cell_type": "code",
   "execution_count": 2,
   "metadata": {},
   "outputs": [
    {
     "name": "stdout",
     "output_type": "stream",
     "text": [
      "\n",
      "Missing Values Count:\n",
      "Brand                   0\n",
      "Model                   0\n",
      "Model_Description      81\n",
      "Price                   0\n",
      "Engine_Size          1252\n",
      "dtype: int64\n"
     ]
    }
   ],
   "source": [
    "# 1. Check for missing values\n",
    "print(\"\\nMissing Values Count:\")\n",
    "print(df.isnull().sum())"
   ]
  },
  {
   "cell_type": "code",
   "execution_count": 4,
   "metadata": {},
   "outputs": [],
   "source": [
    "# Drop columns with more than 50% missing values\n",
    "threshold = len(df) * 0.5\n",
    "df_cleaned = df.dropna(thresh=threshold, axis=1)"
   ]
  },
  {
   "cell_type": "code",
   "execution_count": 5,
   "metadata": {},
   "outputs": [],
   "source": [
    "# 2. Standardize column names\n",
    "df_cleaned.columns = [col.strip().lower().replace(\" \", \"_\") for col in df_cleaned.columns]\n",
    "\n",
    "# 3. Handle duplicates\n",
    "df_cleaned.drop_duplicates(inplace=True)\n",
    "\n",
    "# 4. Convert data types\n",
    "# Example: convert 'price' column to numeric\n",
    "df_cleaned['price'] = pd.to_numeric(df_cleaned['price'], errors='coerce')\n"
   ]
  },
  {
   "cell_type": "code",
   "execution_count": 6,
   "metadata": {},
   "outputs": [],
   "source": [
    "# 5. Detect and handle outliers (Example: Price column)\n",
    "q1 = df_cleaned['price'].quantile(0.25)\n",
    "q3 = df_cleaned['price'].quantile(0.75)\n",
    "iqr = q3 - q1\n",
    "lower_bound = q1 - 1.5 * iqr\n",
    "upper_bound = q3 + 1.5 * iqr\n",
    "df_cleaned = df_cleaned[(df_cleaned['price'] >= lower_bound) & (df_cleaned['price'] <= upper_bound)]\n"
   ]
  },
  {
   "cell_type": "code",
   "execution_count": 9,
   "metadata": {},
   "outputs": [
    {
     "name": "stdout",
     "output_type": "stream",
     "text": [
      "\n",
      "Cleaned Dataset Overview:\n",
      "     brand     model model_description     price  engine_size\n",
      "0   Suzuki  S-Presso            1.0 GL  162900.0          1.0\n",
      "1   Suzuki  S-Presso           1.0 GL+  169900.0          1.0\n",
      "2   Suzuki   Celerio            1.0 GA  178900.0          1.0\n",
      "3  Renault      Kwid          1.0 Life  180999.0          1.0\n",
      "4   Suzuki  S-Presso     1.0 S-Edition  185900.0          1.0\n"
     ]
    }
   ],
   "source": [
    "# Save the cleaned dataset\n",
    "cleaned_file_path = 'cleaned_car_prices.csv'\n",
    "df_cleaned.to_csv(cleaned_file_path, index=False)\n",
    "\n",
    "print(\"\\nCleaned Dataset Overview:\")\n",
    "print(df_cleaned.head())\n"
   ]
  },
  {
   "cell_type": "code",
   "execution_count": null,
   "metadata": {},
   "outputs": [],
   "source": []
  }
 ],
 "metadata": {
  "kernelspec": {
   "display_name": "Python 3",
   "language": "python",
   "name": "python3"
  },
  "language_info": {
   "codemirror_mode": {
    "name": "ipython",
    "version": 3
   },
   "file_extension": ".py",
   "mimetype": "text/x-python",
   "name": "python",
   "nbconvert_exporter": "python",
   "pygments_lexer": "ipython3",
   "version": "3.12.4"
  }
 },
 "nbformat": 4,
 "nbformat_minor": 2
}
